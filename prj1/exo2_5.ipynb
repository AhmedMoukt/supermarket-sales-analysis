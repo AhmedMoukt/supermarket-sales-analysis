{
 "cells": [
  {
   "cell_type": "code",
   "execution_count": null,
   "id": "c4e22b55",
   "metadata": {},
   "outputs": [],
   "source": [
    "import random\n",
    "salary_list=[random.randint(50000,100000) for _ in range(10_000_000)]"
   ]
  },
  {
   "cell_type": "code",
   "execution_count": 8,
   "id": "9a7e6c76",
   "metadata": {},
   "outputs": [],
   "source": [
    "import statistics"
   ]
  },
  {
   "cell_type": "code",
   "execution_count": 12,
   "id": "b105c4da",
   "metadata": {},
   "outputs": [
    {
     "name": "stdout",
     "output_type": "stream",
     "text": [
      "274 ms ± 21.1 ms per loop (mean ± std. dev. of 7 runs, 1 loop each)\n"
     ]
    }
   ],
   "source": [
    "%%timeit\n",
    "\n",
    "statistics.mean(salary_list)"
   ]
  },
  {
   "cell_type": "code",
   "execution_count": 14,
   "id": "4df7d989",
   "metadata": {},
   "outputs": [],
   "source": [
    "import numpy as np"
   ]
  },
  {
   "cell_type": "code",
   "execution_count": 13,
   "id": "4145ab4c",
   "metadata": {},
   "outputs": [
    {
     "name": "stdout",
     "output_type": "stream",
     "text": [
      "76.9 ms ± 7.02 ms per loop (mean ± std. dev. of 7 runs, 10 loops each)\n"
     ]
    }
   ],
   "source": [
    "%%timeit\n",
    "np.mean(salary_list)"
   ]
  },
  {
   "cell_type": "code",
   "execution_count": 16,
   "id": "4b829541",
   "metadata": {},
   "outputs": [
    {
     "data": {
      "text/plain": [
       "np.float64(2.5)"
      ]
     },
     "execution_count": 16,
     "metadata": {},
     "output_type": "execute_result"
    }
   ],
   "source": [
    "my_array=np.array([1,2,3,4])\n",
    "my_array.mean()"
   ]
  },
  {
   "cell_type": "code",
   "execution_count": 30,
   "id": "b1b3ff27",
   "metadata": {},
   "outputs": [],
   "source": [
    "job_title=np.array([\"data analyst\",\"data enge\",\"data scientist\",\"data architect\",\"ai enge\"])\n",
    "base_salaries=np.array([5000,7000,10000,9000, np.nan])\n",
    "bonus_rates=np.array([.05,.1,.08,.12, np.nan])"
   ]
  },
  {
   "cell_type": "code",
   "execution_count": 31,
   "id": "83396d3d",
   "metadata": {},
   "outputs": [
    {
     "data": {
      "text/plain": [
       "array([ 5250.,  7700., 10800., 10080.,    nan])"
      ]
     },
     "execution_count": 31,
     "metadata": {},
     "output_type": "execute_result"
    }
   ],
   "source": [
    "total_salary=base_salaries*(1+bonus_rates)\n",
    "total_salary  "
   ]
  },
  {
   "cell_type": "code",
   "execution_count": 33,
   "id": "7ed25cc7",
   "metadata": {},
   "outputs": [
    {
     "data": {
      "text/plain": [
       "np.float64(8457.5)"
      ]
     },
     "execution_count": 33,
     "metadata": {},
     "output_type": "execute_result"
    }
   ],
   "source": [
    "np.nanmean(total_salary)"
   ]
  },
  {
   "cell_type": "code",
   "execution_count": null,
   "id": "ba2e010e",
   "metadata": {},
   "outputs": [],
   "source": [
    "np"
   ]
  }
 ],
 "metadata": {
  "kernelspec": {
   "display_name": "Python 3",
   "language": "python",
   "name": "python3"
  },
  "language_info": {
   "codemirror_mode": {
    "name": "ipython",
    "version": 3
   },
   "file_extension": ".py",
   "mimetype": "text/x-python",
   "name": "python",
   "nbconvert_exporter": "python",
   "pygments_lexer": "ipython3",
   "version": "3.13.2"
  }
 },
 "nbformat": 4,
 "nbformat_minor": 5
}
