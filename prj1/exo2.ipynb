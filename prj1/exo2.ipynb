{
 "cells": [
  {
   "cell_type": "code",
   "execution_count": 2,
   "id": "a2207e7c",
   "metadata": {},
   "outputs": [],
   "source": [
    "import pandas as pd"
   ]
  },
  {
   "cell_type": "code",
   "execution_count": 3,
   "id": "ebfccf05",
   "metadata": {},
   "outputs": [],
   "source": [
    "df=pd.read_csv(\"avocado1.csv\")"
   ]
  },
  {
   "cell_type": "code",
   "execution_count": 5,
   "id": "46419742",
   "metadata": {},
   "outputs": [
    {
     "data": {
      "application/vnd.microsoft.datawrangler.viewer.v0+json": {
       "columns": [
        {
         "name": "index",
         "rawType": "int64",
         "type": "integer"
        },
        {
         "name": "Unnamed: 0",
         "rawType": "int64",
         "type": "integer"
        },
        {
         "name": "Date",
         "rawType": "object",
         "type": "string"
        },
        {
         "name": "AveragePrice",
         "rawType": "float64",
         "type": "float"
        },
        {
         "name": "Total_Volume",
         "rawType": "float64",
         "type": "float"
        },
        {
         "name": "Total_Bags",
         "rawType": "float64",
         "type": "float"
        },
        {
         "name": "Small_Bags",
         "rawType": "float64",
         "type": "float"
        },
        {
         "name": "Large_Bags",
         "rawType": "float64",
         "type": "float"
        },
        {
         "name": "XLarge_Bags",
         "rawType": "float64",
         "type": "float"
        },
        {
         "name": "type",
         "rawType": "object",
         "type": "string"
        },
        {
         "name": "year",
         "rawType": "int64",
         "type": "integer"
        },
        {
         "name": "region",
         "rawType": "object",
         "type": "string"
        }
       ],
       "conversionMethod": "pd.DataFrame",
       "ref": "823812e1-f49e-4bc0-b402-1d4f11f1ae3a",
       "rows": [
        [
         "0",
         "0",
         "2015-12-27",
         "1.33",
         "64236.62",
         "8696.87",
         "8603.62",
         "93.25",
         "0.0",
         "conventional",
         "2015",
         "Albany"
        ],
        [
         "1",
         "1",
         "2015-12-20",
         "1.35",
         "54876.98",
         "9505.56",
         "9408.07",
         "97.49",
         "0.0",
         "conventional",
         "2015",
         "Albany"
        ],
        [
         "2",
         "2",
         "2015-12-13",
         "0.93",
         "118220.22",
         "8145.35",
         "8042.21",
         "103.14",
         "0.0",
         "conventional",
         "2015",
         "Albany"
        ],
        [
         "3",
         "3",
         "2015-12-06",
         "1.08",
         "78992.15",
         "5811.16",
         "5677.4",
         "133.76",
         "0.0",
         "conventional",
         "2015",
         "Albany"
        ],
        [
         "4",
         "4",
         "2015-11-29",
         "1.28",
         "51039.6",
         "6183.95",
         "5986.26",
         "197.69",
         "0.0",
         "conventional",
         "2015",
         "Albany"
        ]
       ],
       "shape": {
        "columns": 11,
        "rows": 5
       }
      },
      "text/html": [
       "<div>\n",
       "<style scoped>\n",
       "    .dataframe tbody tr th:only-of-type {\n",
       "        vertical-align: middle;\n",
       "    }\n",
       "\n",
       "    .dataframe tbody tr th {\n",
       "        vertical-align: top;\n",
       "    }\n",
       "\n",
       "    .dataframe thead th {\n",
       "        text-align: right;\n",
       "    }\n",
       "</style>\n",
       "<table border=\"1\" class=\"dataframe\">\n",
       "  <thead>\n",
       "    <tr style=\"text-align: right;\">\n",
       "      <th></th>\n",
       "      <th>Unnamed: 0</th>\n",
       "      <th>Date</th>\n",
       "      <th>AveragePrice</th>\n",
       "      <th>Total_Volume</th>\n",
       "      <th>Total_Bags</th>\n",
       "      <th>Small_Bags</th>\n",
       "      <th>Large_Bags</th>\n",
       "      <th>XLarge_Bags</th>\n",
       "      <th>type</th>\n",
       "      <th>year</th>\n",
       "      <th>region</th>\n",
       "    </tr>\n",
       "  </thead>\n",
       "  <tbody>\n",
       "    <tr>\n",
       "      <th>0</th>\n",
       "      <td>0</td>\n",
       "      <td>2015-12-27</td>\n",
       "      <td>1.33</td>\n",
       "      <td>64236.62</td>\n",
       "      <td>8696.87</td>\n",
       "      <td>8603.62</td>\n",
       "      <td>93.25</td>\n",
       "      <td>0.0</td>\n",
       "      <td>conventional</td>\n",
       "      <td>2015</td>\n",
       "      <td>Albany</td>\n",
       "    </tr>\n",
       "    <tr>\n",
       "      <th>1</th>\n",
       "      <td>1</td>\n",
       "      <td>2015-12-20</td>\n",
       "      <td>1.35</td>\n",
       "      <td>54876.98</td>\n",
       "      <td>9505.56</td>\n",
       "      <td>9408.07</td>\n",
       "      <td>97.49</td>\n",
       "      <td>0.0</td>\n",
       "      <td>conventional</td>\n",
       "      <td>2015</td>\n",
       "      <td>Albany</td>\n",
       "    </tr>\n",
       "    <tr>\n",
       "      <th>2</th>\n",
       "      <td>2</td>\n",
       "      <td>2015-12-13</td>\n",
       "      <td>0.93</td>\n",
       "      <td>118220.22</td>\n",
       "      <td>8145.35</td>\n",
       "      <td>8042.21</td>\n",
       "      <td>103.14</td>\n",
       "      <td>0.0</td>\n",
       "      <td>conventional</td>\n",
       "      <td>2015</td>\n",
       "      <td>Albany</td>\n",
       "    </tr>\n",
       "    <tr>\n",
       "      <th>3</th>\n",
       "      <td>3</td>\n",
       "      <td>2015-12-06</td>\n",
       "      <td>1.08</td>\n",
       "      <td>78992.15</td>\n",
       "      <td>5811.16</td>\n",
       "      <td>5677.40</td>\n",
       "      <td>133.76</td>\n",
       "      <td>0.0</td>\n",
       "      <td>conventional</td>\n",
       "      <td>2015</td>\n",
       "      <td>Albany</td>\n",
       "    </tr>\n",
       "    <tr>\n",
       "      <th>4</th>\n",
       "      <td>4</td>\n",
       "      <td>2015-11-29</td>\n",
       "      <td>1.28</td>\n",
       "      <td>51039.60</td>\n",
       "      <td>6183.95</td>\n",
       "      <td>5986.26</td>\n",
       "      <td>197.69</td>\n",
       "      <td>0.0</td>\n",
       "      <td>conventional</td>\n",
       "      <td>2015</td>\n",
       "      <td>Albany</td>\n",
       "    </tr>\n",
       "  </tbody>\n",
       "</table>\n",
       "</div>"
      ],
      "text/plain": [
       "   Unnamed: 0        Date  AveragePrice  Total_Volume  Total_Bags  Small_Bags  \\\n",
       "0           0  2015-12-27          1.33      64236.62     8696.87     8603.62   \n",
       "1           1  2015-12-20          1.35      54876.98     9505.56     9408.07   \n",
       "2           2  2015-12-13          0.93     118220.22     8145.35     8042.21   \n",
       "3           3  2015-12-06          1.08      78992.15     5811.16     5677.40   \n",
       "4           4  2015-11-29          1.28      51039.60     6183.95     5986.26   \n",
       "\n",
       "   Large_Bags  XLarge_Bags          type  year  region  \n",
       "0       93.25          0.0  conventional  2015  Albany  \n",
       "1       97.49          0.0  conventional  2015  Albany  \n",
       "2      103.14          0.0  conventional  2015  Albany  \n",
       "3      133.76          0.0  conventional  2015  Albany  \n",
       "4      197.69          0.0  conventional  2015  Albany  "
      ]
     },
     "execution_count": 5,
     "metadata": {},
     "output_type": "execute_result"
    }
   ],
   "source": [
    "df.head()"
   ]
  },
  {
   "cell_type": "code",
   "execution_count": 6,
   "id": "db18379d",
   "metadata": {},
   "outputs": [
    {
     "data": {
      "application/vnd.microsoft.datawrangler.viewer.v0+json": {
       "columns": [
        {
         "name": "index",
         "rawType": "int64",
         "type": "integer"
        },
        {
         "name": "Unnamed: 0",
         "rawType": "int64",
         "type": "integer"
        },
        {
         "name": "Date",
         "rawType": "object",
         "type": "string"
        },
        {
         "name": "AveragePrice",
         "rawType": "float64",
         "type": "float"
        },
        {
         "name": "Total_Volume",
         "rawType": "float64",
         "type": "float"
        },
        {
         "name": "Total_Bags",
         "rawType": "float64",
         "type": "float"
        },
        {
         "name": "Small_Bags",
         "rawType": "float64",
         "type": "float"
        },
        {
         "name": "Large_Bags",
         "rawType": "float64",
         "type": "float"
        },
        {
         "name": "XLarge_Bags",
         "rawType": "float64",
         "type": "float"
        },
        {
         "name": "type",
         "rawType": "object",
         "type": "string"
        },
        {
         "name": "year",
         "rawType": "int64",
         "type": "integer"
        },
        {
         "name": "region",
         "rawType": "object",
         "type": "string"
        }
       ],
       "conversionMethod": "pd.DataFrame",
       "ref": "e8fe1e55-6292-41ab-a596-74b3e1f34ca1",
       "rows": [
        [
         "18246",
         "9",
         "2018-01-21",
         "1.87",
         "13766.76",
         "9394.11",
         "9351.8",
         "42.31",
         "0.0",
         "organic",
         "2018",
         "WestTexNewMexico"
        ],
        [
         "18247",
         "10",
         "2018-01-14",
         "1.93",
         "16205.22",
         "10969.54",
         "10919.54",
         "50.0",
         "0.0",
         "organic",
         "2018",
         "WestTexNewMexico"
        ],
        [
         "18248",
         "11",
         "2018-01-07",
         "1.62",
         "17489.58",
         "12014.15",
         "11988.14",
         "26.01",
         "0.0",
         "organic",
         "2018",
         "WestTexNewMexico"
        ]
       ],
       "shape": {
        "columns": 11,
        "rows": 3
       }
      },
      "text/html": [
       "<div>\n",
       "<style scoped>\n",
       "    .dataframe tbody tr th:only-of-type {\n",
       "        vertical-align: middle;\n",
       "    }\n",
       "\n",
       "    .dataframe tbody tr th {\n",
       "        vertical-align: top;\n",
       "    }\n",
       "\n",
       "    .dataframe thead th {\n",
       "        text-align: right;\n",
       "    }\n",
       "</style>\n",
       "<table border=\"1\" class=\"dataframe\">\n",
       "  <thead>\n",
       "    <tr style=\"text-align: right;\">\n",
       "      <th></th>\n",
       "      <th>Unnamed: 0</th>\n",
       "      <th>Date</th>\n",
       "      <th>AveragePrice</th>\n",
       "      <th>Total_Volume</th>\n",
       "      <th>Total_Bags</th>\n",
       "      <th>Small_Bags</th>\n",
       "      <th>Large_Bags</th>\n",
       "      <th>XLarge_Bags</th>\n",
       "      <th>type</th>\n",
       "      <th>year</th>\n",
       "      <th>region</th>\n",
       "    </tr>\n",
       "  </thead>\n",
       "  <tbody>\n",
       "    <tr>\n",
       "      <th>18246</th>\n",
       "      <td>9</td>\n",
       "      <td>2018-01-21</td>\n",
       "      <td>1.87</td>\n",
       "      <td>13766.76</td>\n",
       "      <td>9394.11</td>\n",
       "      <td>9351.80</td>\n",
       "      <td>42.31</td>\n",
       "      <td>0.0</td>\n",
       "      <td>organic</td>\n",
       "      <td>2018</td>\n",
       "      <td>WestTexNewMexico</td>\n",
       "    </tr>\n",
       "    <tr>\n",
       "      <th>18247</th>\n",
       "      <td>10</td>\n",
       "      <td>2018-01-14</td>\n",
       "      <td>1.93</td>\n",
       "      <td>16205.22</td>\n",
       "      <td>10969.54</td>\n",
       "      <td>10919.54</td>\n",
       "      <td>50.00</td>\n",
       "      <td>0.0</td>\n",
       "      <td>organic</td>\n",
       "      <td>2018</td>\n",
       "      <td>WestTexNewMexico</td>\n",
       "    </tr>\n",
       "    <tr>\n",
       "      <th>18248</th>\n",
       "      <td>11</td>\n",
       "      <td>2018-01-07</td>\n",
       "      <td>1.62</td>\n",
       "      <td>17489.58</td>\n",
       "      <td>12014.15</td>\n",
       "      <td>11988.14</td>\n",
       "      <td>26.01</td>\n",
       "      <td>0.0</td>\n",
       "      <td>organic</td>\n",
       "      <td>2018</td>\n",
       "      <td>WestTexNewMexico</td>\n",
       "    </tr>\n",
       "  </tbody>\n",
       "</table>\n",
       "</div>"
      ],
      "text/plain": [
       "       Unnamed: 0        Date  AveragePrice  Total_Volume  Total_Bags  \\\n",
       "18246           9  2018-01-21          1.87      13766.76     9394.11   \n",
       "18247          10  2018-01-14          1.93      16205.22    10969.54   \n",
       "18248          11  2018-01-07          1.62      17489.58    12014.15   \n",
       "\n",
       "       Small_Bags  Large_Bags  XLarge_Bags     type  year            region  \n",
       "18246     9351.80       42.31          0.0  organic  2018  WestTexNewMexico  \n",
       "18247    10919.54       50.00          0.0  organic  2018  WestTexNewMexico  \n",
       "18248    11988.14       26.01          0.0  organic  2018  WestTexNewMexico  "
      ]
     },
     "execution_count": 6,
     "metadata": {},
     "output_type": "execute_result"
    }
   ],
   "source": [
    "df.tail(3)"
   ]
  },
  {
   "cell_type": "code",
   "execution_count": 7,
   "id": "c5f283d9",
   "metadata": {},
   "outputs": [
    {
     "data": {
      "application/vnd.microsoft.datawrangler.viewer.v0+json": {
       "columns": [
        {
         "name": "index",
         "rawType": "int64",
         "type": "integer"
        },
        {
         "name": "Unnamed: 0",
         "rawType": "int64",
         "type": "integer"
        },
        {
         "name": "Date",
         "rawType": "object",
         "type": "string"
        },
        {
         "name": "AveragePrice",
         "rawType": "float64",
         "type": "float"
        },
        {
         "name": "Total_Volume",
         "rawType": "float64",
         "type": "float"
        },
        {
         "name": "Total_Bags",
         "rawType": "float64",
         "type": "float"
        },
        {
         "name": "Small_Bags",
         "rawType": "float64",
         "type": "float"
        },
        {
         "name": "Large_Bags",
         "rawType": "float64",
         "type": "float"
        },
        {
         "name": "XLarge_Bags",
         "rawType": "float64",
         "type": "float"
        },
        {
         "name": "type",
         "rawType": "object",
         "type": "string"
        },
        {
         "name": "year",
         "rawType": "int64",
         "type": "integer"
        },
        {
         "name": "region",
         "rawType": "object",
         "type": "string"
        }
       ],
       "conversionMethod": "pd.DataFrame",
       "ref": "1ada570b-1a4f-49a8-aac8-5eb24d3cff9e",
       "rows": [
        [
         "0",
         "0",
         "2015-12-27",
         "1.33",
         "64236.62",
         "8696.87",
         "8603.62",
         "93.25",
         "0.0",
         "conventional",
         "2015",
         "Albany"
        ],
        [
         "1",
         "1",
         "2015-12-20",
         "1.35",
         "54876.98",
         "9505.56",
         "9408.07",
         "97.49",
         "0.0",
         "conventional",
         "2015",
         "Albany"
        ],
        [
         "2",
         "2",
         "2015-12-13",
         "0.93",
         "118220.22",
         "8145.35",
         "8042.21",
         "103.14",
         "0.0",
         "conventional",
         "2015",
         "Albany"
        ]
       ],
       "shape": {
        "columns": 11,
        "rows": 3
       }
      },
      "text/html": [
       "<div>\n",
       "<style scoped>\n",
       "    .dataframe tbody tr th:only-of-type {\n",
       "        vertical-align: middle;\n",
       "    }\n",
       "\n",
       "    .dataframe tbody tr th {\n",
       "        vertical-align: top;\n",
       "    }\n",
       "\n",
       "    .dataframe thead th {\n",
       "        text-align: right;\n",
       "    }\n",
       "</style>\n",
       "<table border=\"1\" class=\"dataframe\">\n",
       "  <thead>\n",
       "    <tr style=\"text-align: right;\">\n",
       "      <th></th>\n",
       "      <th>Unnamed: 0</th>\n",
       "      <th>Date</th>\n",
       "      <th>AveragePrice</th>\n",
       "      <th>Total_Volume</th>\n",
       "      <th>Total_Bags</th>\n",
       "      <th>Small_Bags</th>\n",
       "      <th>Large_Bags</th>\n",
       "      <th>XLarge_Bags</th>\n",
       "      <th>type</th>\n",
       "      <th>year</th>\n",
       "      <th>region</th>\n",
       "    </tr>\n",
       "  </thead>\n",
       "  <tbody>\n",
       "    <tr>\n",
       "      <th>0</th>\n",
       "      <td>0</td>\n",
       "      <td>2015-12-27</td>\n",
       "      <td>1.33</td>\n",
       "      <td>64236.62</td>\n",
       "      <td>8696.87</td>\n",
       "      <td>8603.62</td>\n",
       "      <td>93.25</td>\n",
       "      <td>0.0</td>\n",
       "      <td>conventional</td>\n",
       "      <td>2015</td>\n",
       "      <td>Albany</td>\n",
       "    </tr>\n",
       "    <tr>\n",
       "      <th>1</th>\n",
       "      <td>1</td>\n",
       "      <td>2015-12-20</td>\n",
       "      <td>1.35</td>\n",
       "      <td>54876.98</td>\n",
       "      <td>9505.56</td>\n",
       "      <td>9408.07</td>\n",
       "      <td>97.49</td>\n",
       "      <td>0.0</td>\n",
       "      <td>conventional</td>\n",
       "      <td>2015</td>\n",
       "      <td>Albany</td>\n",
       "    </tr>\n",
       "    <tr>\n",
       "      <th>2</th>\n",
       "      <td>2</td>\n",
       "      <td>2015-12-13</td>\n",
       "      <td>0.93</td>\n",
       "      <td>118220.22</td>\n",
       "      <td>8145.35</td>\n",
       "      <td>8042.21</td>\n",
       "      <td>103.14</td>\n",
       "      <td>0.0</td>\n",
       "      <td>conventional</td>\n",
       "      <td>2015</td>\n",
       "      <td>Albany</td>\n",
       "    </tr>\n",
       "  </tbody>\n",
       "</table>\n",
       "</div>"
      ],
      "text/plain": [
       "   Unnamed: 0        Date  AveragePrice  Total_Volume  Total_Bags  Small_Bags  \\\n",
       "0           0  2015-12-27          1.33      64236.62     8696.87     8603.62   \n",
       "1           1  2015-12-20          1.35      54876.98     9505.56     9408.07   \n",
       "2           2  2015-12-13          0.93     118220.22     8145.35     8042.21   \n",
       "\n",
       "   Large_Bags  XLarge_Bags          type  year  region  \n",
       "0       93.25          0.0  conventional  2015  Albany  \n",
       "1       97.49          0.0  conventional  2015  Albany  \n",
       "2      103.14          0.0  conventional  2015  Albany  "
      ]
     },
     "execution_count": 7,
     "metadata": {},
     "output_type": "execute_result"
    }
   ],
   "source": [
    "df.head(3)"
   ]
  },
  {
   "cell_type": "code",
   "execution_count": 9,
   "id": "d5070016",
   "metadata": {},
   "outputs": [
    {
     "data": {
      "text/plain": [
       "(18249, 11)"
      ]
     },
     "execution_count": 9,
     "metadata": {},
     "output_type": "execute_result"
    }
   ],
   "source": [
    "df.shape"
   ]
  },
  {
   "cell_type": "code",
   "execution_count": 12,
   "id": "295e36f3",
   "metadata": {},
   "outputs": [
    {
     "data": {
      "text/plain": [
       "Index(['Unnamed: 0', 'Date', 'AveragePrice', 'Total_Volume', 'Total_Bags',\n",
       "       'Small_Bags', 'Large_Bags', 'XLarge_Bags', 'type', 'year', 'region'],\n",
       "      dtype='object')"
      ]
     },
     "execution_count": 12,
     "metadata": {},
     "output_type": "execute_result"
    }
   ],
   "source": [
    "df.columns"
   ]
  },
  {
   "cell_type": "code",
   "execution_count": 14,
   "id": "0fa39f66",
   "metadata": {},
   "outputs": [
    {
     "data": {
      "text/plain": [
       "RangeIndex(start=0, stop=18249, step=1)"
      ]
     },
     "execution_count": 14,
     "metadata": {},
     "output_type": "execute_result"
    }
   ],
   "source": [
    "df.index"
   ]
  },
  {
   "cell_type": "code",
   "execution_count": 19,
   "id": "1e743aae",
   "metadata": {},
   "outputs": [
    {
     "data": {
      "application/vnd.microsoft.datawrangler.viewer.v0+json": {
       "columns": [
        {
         "name": "Date",
         "rawType": "object",
         "type": "string"
        },
        {
         "name": "Unnamed: 0",
         "rawType": "int64",
         "type": "integer"
        },
        {
         "name": "AveragePrice",
         "rawType": "float64",
         "type": "float"
        },
        {
         "name": "Total_Volume",
         "rawType": "float64",
         "type": "float"
        },
        {
         "name": "Total_Bags",
         "rawType": "float64",
         "type": "float"
        },
        {
         "name": "Small_Bags",
         "rawType": "float64",
         "type": "float"
        },
        {
         "name": "Large_Bags",
         "rawType": "float64",
         "type": "float"
        },
        {
         "name": "XLarge_Bags",
         "rawType": "float64",
         "type": "float"
        },
        {
         "name": "type",
         "rawType": "object",
         "type": "string"
        },
        {
         "name": "year",
         "rawType": "int64",
         "type": "integer"
        },
        {
         "name": "region",
         "rawType": "object",
         "type": "string"
        }
       ],
       "conversionMethod": "pd.DataFrame",
       "ref": "005f8640-6b14-4cb9-9dfa-0d9068a09319",
       "rows": [
        [
         "2015-12-27",
         "0",
         "1.33",
         "64236.62",
         "8696.87",
         "8603.62",
         "93.25",
         "0.0",
         "conventional",
         "2015",
         "Albany"
        ],
        [
         "2015-12-20",
         "1",
         "1.35",
         "54876.98",
         "9505.56",
         "9408.07",
         "97.49",
         "0.0",
         "conventional",
         "2015",
         "Albany"
        ],
        [
         "2015-12-13",
         "2",
         "0.93",
         "118220.22",
         "8145.35",
         "8042.21",
         "103.14",
         "0.0",
         "conventional",
         "2015",
         "Albany"
        ],
        [
         "2015-12-06",
         "3",
         "1.08",
         "78992.15",
         "5811.16",
         "5677.4",
         "133.76",
         "0.0",
         "conventional",
         "2015",
         "Albany"
        ],
        [
         "2015-11-29",
         "4",
         "1.28",
         "51039.6",
         "6183.95",
         "5986.26",
         "197.69",
         "0.0",
         "conventional",
         "2015",
         "Albany"
        ],
        [
         "2015-11-22",
         "5",
         "1.26",
         "55979.78",
         "6683.91",
         "6556.47",
         "127.44",
         "0.0",
         "conventional",
         "2015",
         "Albany"
        ],
        [
         "2015-11-15",
         "6",
         "0.99",
         "83453.76",
         "8318.86",
         "8196.81",
         "122.05",
         "0.0",
         "conventional",
         "2015",
         "Albany"
        ],
        [
         "2015-11-08",
         "7",
         "0.98",
         "109428.33",
         "6829.22",
         "6266.85",
         "562.37",
         "0.0",
         "conventional",
         "2015",
         "Albany"
        ],
        [
         "2015-11-01",
         "8",
         "1.02",
         "99811.42",
         "11388.36",
         "11104.53",
         "283.83",
         "0.0",
         "conventional",
         "2015",
         "Albany"
        ],
        [
         "2015-10-25",
         "9",
         "1.07",
         "74338.76",
         "8625.92",
         "8061.47",
         "564.45",
         "0.0",
         "conventional",
         "2015",
         "Albany"
        ],
        [
         "2015-10-18",
         "10",
         "1.12",
         "84843.44",
         "8205.66",
         "7877.86",
         "327.8",
         "0.0",
         "conventional",
         "2015",
         "Albany"
        ],
        [
         "2015-10-11",
         "11",
         "1.28",
         "64489.17",
         "10123.9",
         "9866.27",
         "257.63",
         "0.0",
         "conventional",
         "2015",
         "Albany"
        ],
        [
         "2015-10-04",
         "12",
         "1.31",
         "61007.1",
         "8756.75",
         "8379.98",
         "376.77",
         "0.0",
         "conventional",
         "2015",
         "Albany"
        ],
        [
         "2015-09-27",
         "13",
         "0.99",
         "106803.39",
         "6034.46",
         "5888.87",
         "145.59",
         "0.0",
         "conventional",
         "2015",
         "Albany"
        ],
        [
         "2015-09-20",
         "14",
         "1.33",
         "69759.01",
         "9267.36",
         "8489.1",
         "778.26",
         "0.0",
         "conventional",
         "2015",
         "Albany"
        ],
        [
         "2015-09-13",
         "15",
         "1.28",
         "76111.27",
         "9286.68",
         "8665.19",
         "621.49",
         "0.0",
         "conventional",
         "2015",
         "Albany"
        ],
        [
         "2015-09-06",
         "16",
         "1.11",
         "99172.96",
         "7990.1",
         "7762.87",
         "227.23",
         "0.0",
         "conventional",
         "2015",
         "Albany"
        ],
        [
         "2015-08-30",
         "17",
         "1.07",
         "105693.84",
         "10306.73",
         "10218.93",
         "87.8",
         "0.0",
         "conventional",
         "2015",
         "Albany"
        ],
        [
         "2015-08-23",
         "18",
         "1.34",
         "79992.09",
         "10880.36",
         "10745.79",
         "134.57",
         "0.0",
         "conventional",
         "2015",
         "Albany"
        ],
        [
         "2015-08-16",
         "19",
         "1.33",
         "80043.78",
         "10443.22",
         "10297.68",
         "145.54",
         "0.0",
         "conventional",
         "2015",
         "Albany"
        ],
        [
         "2015-08-09",
         "20",
         "1.12",
         "111140.93",
         "9225.89",
         "9116.34",
         "109.55",
         "0.0",
         "conventional",
         "2015",
         "Albany"
        ],
        [
         "2015-08-02",
         "21",
         "1.45",
         "75133.1",
         "11847.02",
         "11768.52",
         "78.5",
         "0.0",
         "conventional",
         "2015",
         "Albany"
        ],
        [
         "2015-07-26",
         "22",
         "1.11",
         "106757.1",
         "13192.69",
         "13061.53",
         "131.16",
         "0.0",
         "conventional",
         "2015",
         "Albany"
        ],
        [
         "2015-07-19",
         "23",
         "1.26",
         "96617.0",
         "11287.48",
         "11103.49",
         "183.99",
         "0.0",
         "conventional",
         "2015",
         "Albany"
        ],
        [
         "2015-07-12",
         "24",
         "1.05",
         "124055.31",
         "24431.9",
         "24290.08",
         "108.49",
         "33.33",
         "conventional",
         "2015",
         "Albany"
        ],
        [
         "2015-07-05",
         "25",
         "1.35",
         "109252.12",
         "29898.96",
         "29663.19",
         "235.77",
         "0.0",
         "conventional",
         "2015",
         "Albany"
        ],
        [
         "2015-06-28",
         "26",
         "1.37",
         "89534.81",
         "26662.08",
         "26311.76",
         "350.32",
         "0.0",
         "conventional",
         "2015",
         "Albany"
        ],
        [
         "2015-06-21",
         "27",
         "1.27",
         "104849.39",
         "21875.65",
         "21662.0",
         "213.65",
         "0.0",
         "conventional",
         "2015",
         "Albany"
        ],
        [
         "2015-06-14",
         "28",
         "1.32",
         "89631.3",
         "29002.59",
         "28343.14",
         "659.45",
         "0.0",
         "conventional",
         "2015",
         "Albany"
        ],
        [
         "2015-06-07",
         "29",
         "1.07",
         "122743.06",
         "22775.21",
         "22314.99",
         "460.22",
         "0.0",
         "conventional",
         "2015",
         "Albany"
        ],
        [
         "2015-05-31",
         "30",
         "1.23",
         "95123.62",
         "23681.01",
         "23222.49",
         "458.52",
         "0.0",
         "conventional",
         "2015",
         "Albany"
        ],
        [
         "2015-05-24",
         "31",
         "1.19",
         "101470.91",
         "29355.13",
         "28761.81",
         "593.32",
         "0.0",
         "conventional",
         "2015",
         "Albany"
        ],
        [
         "2015-05-17",
         "32",
         "1.43",
         "109857.47",
         "26657.44",
         "26285.43",
         "372.01",
         "0.0",
         "conventional",
         "2015",
         "Albany"
        ],
        [
         "2015-05-10",
         "33",
         "1.26",
         "120427.91",
         "16821.3",
         "16535.55",
         "285.75",
         "0.0",
         "conventional",
         "2015",
         "Albany"
        ],
        [
         "2015-05-03",
         "34",
         "1.2",
         "59197.67",
         "12570.51",
         "12201.95",
         "368.56",
         "0.0",
         "conventional",
         "2015",
         "Albany"
        ],
        [
         "2015-04-26",
         "35",
         "1.22",
         "49585.46",
         "12778.44",
         "12076.83",
         "701.61",
         "0.0",
         "conventional",
         "2015",
         "Albany"
        ],
        [
         "2015-04-19",
         "36",
         "1.19",
         "49064.73",
         "14301.92",
         "13602.97",
         "698.95",
         "0.0",
         "conventional",
         "2015",
         "Albany"
        ],
        [
         "2015-04-12",
         "37",
         "1.13",
         "48364.29",
         "17104.37",
         "16438.49",
         "665.88",
         "0.0",
         "conventional",
         "2015",
         "Albany"
        ],
        [
         "2015-04-05",
         "38",
         "1.16",
         "47362.13",
         "10728.94",
         "9869.16",
         "755.61",
         "104.17",
         "conventional",
         "2015",
         "Albany"
        ],
        [
         "2015-03-29",
         "39",
         "1.02",
         "67799.08",
         "7684.08",
         "7208.49",
         "475.59",
         "0.0",
         "conventional",
         "2015",
         "Albany"
        ],
        [
         "2015-03-22",
         "40",
         "1.12",
         "46346.85",
         "9749.66",
         "9252.6",
         "497.06",
         "0.0",
         "conventional",
         "2015",
         "Albany"
        ],
        [
         "2015-03-15",
         "41",
         "1.11",
         "43045.79",
         "10370.69",
         "9989.59",
         "381.1",
         "0.0",
         "conventional",
         "2015",
         "Albany"
        ],
        [
         "2015-03-08",
         "42",
         "1.07",
         "40507.36",
         "9181.99",
         "8827.55",
         "354.44",
         "0.0",
         "conventional",
         "2015",
         "Albany"
        ],
        [
         "2015-03-01",
         "43",
         "0.99",
         "55595.74",
         "9151.45",
         "8986.06",
         "165.39",
         "0.0",
         "conventional",
         "2015",
         "Albany"
        ],
        [
         "2015-02-22",
         "44",
         "1.07",
         "45675.05",
         "9379.54",
         "9000.16",
         "379.38",
         "0.0",
         "conventional",
         "2015",
         "Albany"
        ],
        [
         "2015-02-15",
         "45",
         "1.06",
         "41567.62",
         "10313.03",
         "9979.87",
         "333.16",
         "0.0",
         "conventional",
         "2015",
         "Albany"
        ],
        [
         "2015-02-08",
         "46",
         "0.99",
         "51253.97",
         "10621.54",
         "10113.1",
         "508.44",
         "0.0",
         "conventional",
         "2015",
         "Albany"
        ],
        [
         "2015-02-01",
         "47",
         "0.99",
         "70873.6",
         "9323.18",
         "9170.82",
         "152.36",
         "0.0",
         "conventional",
         "2015",
         "Albany"
        ],
        [
         "2015-01-25",
         "48",
         "1.06",
         "45147.5",
         "10845.82",
         "10103.35",
         "742.47",
         "0.0",
         "conventional",
         "2015",
         "Albany"
        ],
        [
         "2015-01-18",
         "49",
         "1.17",
         "44511.28",
         "11921.05",
         "11651.09",
         "269.96",
         "0.0",
         "conventional",
         "2015",
         "Albany"
        ]
       ],
       "shape": {
        "columns": 10,
        "rows": 18249
       }
      },
      "text/html": [
       "<div>\n",
       "<style scoped>\n",
       "    .dataframe tbody tr th:only-of-type {\n",
       "        vertical-align: middle;\n",
       "    }\n",
       "\n",
       "    .dataframe tbody tr th {\n",
       "        vertical-align: top;\n",
       "    }\n",
       "\n",
       "    .dataframe thead th {\n",
       "        text-align: right;\n",
       "    }\n",
       "</style>\n",
       "<table border=\"1\" class=\"dataframe\">\n",
       "  <thead>\n",
       "    <tr style=\"text-align: right;\">\n",
       "      <th></th>\n",
       "      <th>Unnamed: 0</th>\n",
       "      <th>AveragePrice</th>\n",
       "      <th>Total_Volume</th>\n",
       "      <th>Total_Bags</th>\n",
       "      <th>Small_Bags</th>\n",
       "      <th>Large_Bags</th>\n",
       "      <th>XLarge_Bags</th>\n",
       "      <th>type</th>\n",
       "      <th>year</th>\n",
       "      <th>region</th>\n",
       "    </tr>\n",
       "    <tr>\n",
       "      <th>Date</th>\n",
       "      <th></th>\n",
       "      <th></th>\n",
       "      <th></th>\n",
       "      <th></th>\n",
       "      <th></th>\n",
       "      <th></th>\n",
       "      <th></th>\n",
       "      <th></th>\n",
       "      <th></th>\n",
       "      <th></th>\n",
       "    </tr>\n",
       "  </thead>\n",
       "  <tbody>\n",
       "    <tr>\n",
       "      <th>2015-12-27</th>\n",
       "      <td>0</td>\n",
       "      <td>1.33</td>\n",
       "      <td>64236.62</td>\n",
       "      <td>8696.87</td>\n",
       "      <td>8603.62</td>\n",
       "      <td>93.25</td>\n",
       "      <td>0.0</td>\n",
       "      <td>conventional</td>\n",
       "      <td>2015</td>\n",
       "      <td>Albany</td>\n",
       "    </tr>\n",
       "    <tr>\n",
       "      <th>2015-12-20</th>\n",
       "      <td>1</td>\n",
       "      <td>1.35</td>\n",
       "      <td>54876.98</td>\n",
       "      <td>9505.56</td>\n",
       "      <td>9408.07</td>\n",
       "      <td>97.49</td>\n",
       "      <td>0.0</td>\n",
       "      <td>conventional</td>\n",
       "      <td>2015</td>\n",
       "      <td>Albany</td>\n",
       "    </tr>\n",
       "    <tr>\n",
       "      <th>2015-12-13</th>\n",
       "      <td>2</td>\n",
       "      <td>0.93</td>\n",
       "      <td>118220.22</td>\n",
       "      <td>8145.35</td>\n",
       "      <td>8042.21</td>\n",
       "      <td>103.14</td>\n",
       "      <td>0.0</td>\n",
       "      <td>conventional</td>\n",
       "      <td>2015</td>\n",
       "      <td>Albany</td>\n",
       "    </tr>\n",
       "    <tr>\n",
       "      <th>2015-12-06</th>\n",
       "      <td>3</td>\n",
       "      <td>1.08</td>\n",
       "      <td>78992.15</td>\n",
       "      <td>5811.16</td>\n",
       "      <td>5677.40</td>\n",
       "      <td>133.76</td>\n",
       "      <td>0.0</td>\n",
       "      <td>conventional</td>\n",
       "      <td>2015</td>\n",
       "      <td>Albany</td>\n",
       "    </tr>\n",
       "    <tr>\n",
       "      <th>2015-11-29</th>\n",
       "      <td>4</td>\n",
       "      <td>1.28</td>\n",
       "      <td>51039.60</td>\n",
       "      <td>6183.95</td>\n",
       "      <td>5986.26</td>\n",
       "      <td>197.69</td>\n",
       "      <td>0.0</td>\n",
       "      <td>conventional</td>\n",
       "      <td>2015</td>\n",
       "      <td>Albany</td>\n",
       "    </tr>\n",
       "    <tr>\n",
       "      <th>...</th>\n",
       "      <td>...</td>\n",
       "      <td>...</td>\n",
       "      <td>...</td>\n",
       "      <td>...</td>\n",
       "      <td>...</td>\n",
       "      <td>...</td>\n",
       "      <td>...</td>\n",
       "      <td>...</td>\n",
       "      <td>...</td>\n",
       "      <td>...</td>\n",
       "    </tr>\n",
       "    <tr>\n",
       "      <th>2018-02-04</th>\n",
       "      <td>7</td>\n",
       "      <td>1.63</td>\n",
       "      <td>17074.83</td>\n",
       "      <td>13498.67</td>\n",
       "      <td>13066.82</td>\n",
       "      <td>431.85</td>\n",
       "      <td>0.0</td>\n",
       "      <td>organic</td>\n",
       "      <td>2018</td>\n",
       "      <td>WestTexNewMexico</td>\n",
       "    </tr>\n",
       "    <tr>\n",
       "      <th>2018-01-28</th>\n",
       "      <td>8</td>\n",
       "      <td>1.71</td>\n",
       "      <td>13888.04</td>\n",
       "      <td>9264.84</td>\n",
       "      <td>8940.04</td>\n",
       "      <td>324.80</td>\n",
       "      <td>0.0</td>\n",
       "      <td>organic</td>\n",
       "      <td>2018</td>\n",
       "      <td>WestTexNewMexico</td>\n",
       "    </tr>\n",
       "    <tr>\n",
       "      <th>2018-01-21</th>\n",
       "      <td>9</td>\n",
       "      <td>1.87</td>\n",
       "      <td>13766.76</td>\n",
       "      <td>9394.11</td>\n",
       "      <td>9351.80</td>\n",
       "      <td>42.31</td>\n",
       "      <td>0.0</td>\n",
       "      <td>organic</td>\n",
       "      <td>2018</td>\n",
       "      <td>WestTexNewMexico</td>\n",
       "    </tr>\n",
       "    <tr>\n",
       "      <th>2018-01-14</th>\n",
       "      <td>10</td>\n",
       "      <td>1.93</td>\n",
       "      <td>16205.22</td>\n",
       "      <td>10969.54</td>\n",
       "      <td>10919.54</td>\n",
       "      <td>50.00</td>\n",
       "      <td>0.0</td>\n",
       "      <td>organic</td>\n",
       "      <td>2018</td>\n",
       "      <td>WestTexNewMexico</td>\n",
       "    </tr>\n",
       "    <tr>\n",
       "      <th>2018-01-07</th>\n",
       "      <td>11</td>\n",
       "      <td>1.62</td>\n",
       "      <td>17489.58</td>\n",
       "      <td>12014.15</td>\n",
       "      <td>11988.14</td>\n",
       "      <td>26.01</td>\n",
       "      <td>0.0</td>\n",
       "      <td>organic</td>\n",
       "      <td>2018</td>\n",
       "      <td>WestTexNewMexico</td>\n",
       "    </tr>\n",
       "  </tbody>\n",
       "</table>\n",
       "<p>18249 rows × 10 columns</p>\n",
       "</div>"
      ],
      "text/plain": [
       "            Unnamed: 0  AveragePrice  Total_Volume  Total_Bags  Small_Bags  \\\n",
       "Date                                                                         \n",
       "2015-12-27           0          1.33      64236.62     8696.87     8603.62   \n",
       "2015-12-20           1          1.35      54876.98     9505.56     9408.07   \n",
       "2015-12-13           2          0.93     118220.22     8145.35     8042.21   \n",
       "2015-12-06           3          1.08      78992.15     5811.16     5677.40   \n",
       "2015-11-29           4          1.28      51039.60     6183.95     5986.26   \n",
       "...                ...           ...           ...         ...         ...   \n",
       "2018-02-04           7          1.63      17074.83    13498.67    13066.82   \n",
       "2018-01-28           8          1.71      13888.04     9264.84     8940.04   \n",
       "2018-01-21           9          1.87      13766.76     9394.11     9351.80   \n",
       "2018-01-14          10          1.93      16205.22    10969.54    10919.54   \n",
       "2018-01-07          11          1.62      17489.58    12014.15    11988.14   \n",
       "\n",
       "            Large_Bags  XLarge_Bags          type  year            region  \n",
       "Date                                                                       \n",
       "2015-12-27       93.25          0.0  conventional  2015            Albany  \n",
       "2015-12-20       97.49          0.0  conventional  2015            Albany  \n",
       "2015-12-13      103.14          0.0  conventional  2015            Albany  \n",
       "2015-12-06      133.76          0.0  conventional  2015            Albany  \n",
       "2015-11-29      197.69          0.0  conventional  2015            Albany  \n",
       "...                ...          ...           ...   ...               ...  \n",
       "2018-02-04      431.85          0.0       organic  2018  WestTexNewMexico  \n",
       "2018-01-28      324.80          0.0       organic  2018  WestTexNewMexico  \n",
       "2018-01-21       42.31          0.0       organic  2018  WestTexNewMexico  \n",
       "2018-01-14       50.00          0.0       organic  2018  WestTexNewMexico  \n",
       "2018-01-07       26.01          0.0       organic  2018  WestTexNewMexico  \n",
       "\n",
       "[18249 rows x 10 columns]"
      ]
     },
     "execution_count": 19,
     "metadata": {},
     "output_type": "execute_result"
    }
   ],
   "source": [
    "df.set_index(\"Date\")"
   ]
  },
  {
   "cell_type": "code",
   "execution_count": 20,
   "id": "ead0a81c",
   "metadata": {},
   "outputs": [
    {
     "data": {
      "text/plain": [
       "RangeIndex(start=0, stop=18249, step=1)"
      ]
     },
     "execution_count": 20,
     "metadata": {},
     "output_type": "execute_result"
    }
   ],
   "source": [
    "df.index"
   ]
  }
 ],
 "metadata": {
  "kernelspec": {
   "display_name": "Python 3",
   "language": "python",
   "name": "python3"
  },
  "language_info": {
   "codemirror_mode": {
    "name": "ipython",
    "version": 3
   },
   "file_extension": ".py",
   "mimetype": "text/x-python",
   "name": "python",
   "nbconvert_exporter": "python",
   "pygments_lexer": "ipython3",
   "version": "3.13.2"
  }
 },
 "nbformat": 4,
 "nbformat_minor": 5
}
